{
  "nbformat": 4,
  "nbformat_minor": 0,
  "metadata": {
    "colab": {
      "provenance": [],
      "include_colab_link": true
    },
    "kernelspec": {
      "name": "python3",
      "display_name": "Python 3"
    },
    "language_info": {
      "name": "python"
    }
  },
  "cells": [
    {
      "cell_type": "markdown",
      "metadata": {
        "id": "view-in-github",
        "colab_type": "text"
      },
      "source": [
        "<a href=\"https://colab.research.google.com/github/AnkitaSahu1312/AnkitaSahu1312/blob/main/Experiment_No_1_DL.ipynb\" target=\"_parent\"><img src=\"https://colab.research.google.com/assets/colab-badge.svg\" alt=\"Open In Colab\"/></a>"
      ]
    },
    {
      "cell_type": "markdown",
      "source": [
        "**Write a Program to implement Single Layer Perceptron**"
      ],
      "metadata": {
        "id": "qD53D9Ufmstl"
      }
    },
    {
      "cell_type": "code",
      "execution_count": null,
      "metadata": {
        "id": "flbzISxBXsYk"
      },
      "outputs": [],
      "source": [
        "import numpy as np\n",
        "\n",
        "input_vector = np.array([1.66, 1.56])\n",
        "weights_1 = np.array([1.45, -0.66])\n",
        "bias = np.array([0.0])\n",
        "\n"
      ]
    },
    {
      "cell_type": "code",
      "source": [
        "import numpy as np\n",
        "input_vector = np.array([1.66, 1.56])\n",
        "weights_1 = np.array([1.45, -0.66])\n",
        "bias = np.array([0.0])\n",
        "\n",
        "def sigmoid(x):\n",
        "    return 1 / (1 + np.exp(-x))\n",
        "\n",
        "def make_prediction(input_vector, weights, bias):\n",
        "    layer_1 = np.dot(input_vector, weights) + bias       #   Z=X1*w1+ X2*W2\n",
        "    layer_2 = sigmoid(layer_1)\n",
        "    return layer_2\n",
        "\n",
        "prediction = make_prediction(input_vector, weights_1, bias)\n",
        "\n",
        "print(\"The prediction result is:\", prediction)\n",
        "\n"
      ],
      "metadata": {
        "id": "HeEOdb-AX8zR",
        "outputId": "b7ccdd1f-2e54-4cc5-c24a-f12c5bc4fedd",
        "colab": {
          "base_uri": "https://localhost:8080/"
        }
      },
      "execution_count": null,
      "outputs": [
        {
          "output_type": "stream",
          "name": "stdout",
          "text": [
            "The prediction result is: [0.7985731]\n"
          ]
        }
      ]
    },
    {
      "cell_type": "markdown",
      "source": [],
      "metadata": {
        "id": "JYst6FfZmrTX"
      }
    },
    {
      "cell_type": "code",
      "source": [
        "prediction = make_prediction(input_vector, weights_1, bias)\n",
        "\n",
        "print(\"The prediction result is:\", prediction)\n"
      ],
      "metadata": {
        "colab": {
          "base_uri": "https://localhost:8080/"
        },
        "id": "BcmtvLewfA8p",
        "outputId": "7c6d9421-d956-49c6-f060-a5d3e13f5497"
      },
      "execution_count": null,
      "outputs": [
        {
          "output_type": "stream",
          "name": "stdout",
          "text": [
            "the output : [0.7985731]\n",
            "The prediction result is: [0.7985731]\n"
          ]
        }
      ]
    },
    {
      "cell_type": "code",
      "source": [
        "input_vector = np.array([2, 1.5])\n",
        "prediction = make_prediction(input_vector, weights_1, bias)\n",
        "\n",
        "print(\"The prediction result is:\", prediction)\n"
      ],
      "metadata": {
        "colab": {
          "base_uri": "https://localhost:8080/"
        },
        "id": "qiejL27xicOa",
        "outputId": "32a952ea-16f5-4000-e718-8b2cfbadeac8"
      },
      "execution_count": null,
      "outputs": [
        {
          "output_type": "stream",
          "name": "stdout",
          "text": [
            "the output : [1.91]\n",
            "The prediction result is: [0.87101915]\n"
          ]
        }
      ]
    },
    {
      "cell_type": "markdown",
      "source": [],
      "metadata": {
        "id": "3J9OC-9xcSOS"
      }
    },
    {
      "cell_type": "markdown",
      "source": [
        "**Train The network**"
      ],
      "metadata": {
        "id": "li116BySiqwL"
      }
    },
    {
      "cell_type": "code",
      "source": [
        "target = 0\n",
        "\n",
        "mse = np.square(prediction - target)\n",
        "\n",
        "print(\"Prediction:\",prediction, \"Error:\",mse)\n"
      ],
      "metadata": {
        "colab": {
          "base_uri": "https://localhost:8080/"
        },
        "id": "CoDlg4p3iu2A",
        "outputId": "20f1c46f-97a3-4743-9f71-a1f4922e2433"
      },
      "execution_count": null,
      "outputs": [
        {
          "output_type": "stream",
          "name": "stdout",
          "text": [
            "Prediction: [0.87101915] Error: [0.75867436]\n"
          ]
        }
      ]
    }
  ]
}